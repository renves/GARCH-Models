{
 "cells": [
  {
   "cell_type": "markdown",
   "metadata": {},
   "source": [
    "## Simplify the model with p-values\n",
    "\n",
    "The null hypothesis is the parameter value is zero. If the p-value is larger than a given confidence level, the null hypothesis cannot be rejected, meaning the parameter is not statistically significant, hence not necessary."
   ]
  },
  {
   "cell_type": "code",
   "execution_count": 1,
   "metadata": {},
   "outputs": [],
   "source": [
    "import pandas as pd\n",
    "import numpy as np\n",
    "import matplotlib\n",
    "from matplotlib import pyplot as plt\n",
    "%matplotlib inline\n",
    "matplotlib.rcParams['figure.figsize'] = [9,8]\n",
    "import warnings\n",
    "warnings.filterwarnings('ignore')\n",
    "from arch import arch_model\n",
    "from pandas_datareader import DataReader\n",
    "from datetime import datetime\n",
    "from statsmodels.graphics.tsaplots import plot_acf\n",
    "from statsmodels.stats.diagnostic import acorr_ljungbox"
   ]
  },
  {
   "cell_type": "code",
   "execution_count": 2,
   "metadata": {},
   "outputs": [
    {
     "data": {
      "image/png": "[encoded data removed]",
      "text/plain": [
       "<Figure size 648x576 with 1 Axes>"
      ]
     },
     "metadata": {
      "needs_background": "light"
     },
     "output_type": "display_data"
    }
   ],
   "source": [
    "start = datetime(2010,1,1)\n",
    "end = datetime(2020,7,10)\n",
    "\n",
    "bitcoin = DataReader('BTC-USD', 'yahoo',start, end)\n",
    "bitcoin.drop(columns=['High','Low','Open','Volume','Adj Close'], inplace=True)\n",
    "bitcoin['Return'] = 100*(bitcoin['Close'].pct_change())\n",
    "bitcoin['Close'].plot()\n",
    "plt.show()"
   ]
  },
  {
   "cell_type": "code",
   "execution_count": 3,
   "metadata": {},
   "outputs": [],
   "source": [
    "# Specify model assumptions\n",
    "gm = arch_model(bitcoin['Return'].dropna(), p = 1, q = 1, o = 1, vol = 'EGARCH', dist = 't')\n",
    "\n",
    "# Fit the model\n",
    "gm_result = gm.fit(disp = 'off')"
   ]
  },
  {
   "cell_type": "code",
   "execution_count": 4,
   "metadata": {},
   "outputs": [
    {
     "name": "stdout",
     "output_type": "stream",
     "text": [
      "                        Constant Mean - EGARCH Model Results                        \n",
      "====================================================================================\n",
      "Dep. Variable:                       Return   R-squared:                      -0.000\n",
      "Mean Model:                   Constant Mean   Adj. R-squared:                 -0.000\n",
      "Vol Model:                           EGARCH   Log-Likelihood:               -5338.80\n",
      "Distribution:      Standardized Student's t   AIC:                           10689.6\n",
      "Method:                  Maximum Likelihood   BIC:                           10723.6\n",
      "                                              No. Observations:                 2124\n",
      "Date:                      Mon, Jul 13 2020   Df Residuals:                     2118\n",
      "Time:                              10:26:04   Df Model:                            6\n",
      "                                Mean Model                                \n",
      "==========================================================================\n",
      "                 coef    std err          t      P>|t|    95.0% Conf. Int.\n",
      "--------------------------------------------------------------------------\n",
      "mu             0.1385  3.624e-02      3.822  1.324e-04 [6.748e-02,  0.210]\n",
      "                               Volatility Model                              \n",
      "=============================================================================\n",
      "                 coef    std err          t      P>|t|       95.0% Conf. Int.\n",
      "-----------------------------------------------------------------------------\n",
      "omega          0.1116  3.673e-02      3.038  2.384e-03    [3.958e-02,  0.184]\n",
      "alpha[1]       0.3148  4.752e-02      6.623  3.516e-11      [  0.222,  0.408]\n",
      "gamma[1]       0.0262  1.836e-02      1.427      0.154 [-9.788e-03,6.219e-02]\n",
      "beta[1]        0.9872  6.502e-03    151.824      0.000      [  0.974,  1.000]\n",
      "                              Distribution                              \n",
      "========================================================================\n",
      "                 coef    std err          t      P>|t|  95.0% Conf. Int.\n",
      "------------------------------------------------------------------------\n",
      "nu             2.5811      0.159     16.218  3.762e-59 [  2.269,  2.893]\n",
      "========================================================================\n",
      "\n",
      "Covariance estimator: robust\n",
      "          parameter       p-value\n",
      "mu         0.138501  1.323514e-04\n",
      "omega      0.111566  2.383672e-03\n",
      "alpha[1]   0.314763  3.516003e-11\n",
      "gamma[1]   0.026203  1.535963e-01\n",
      "beta[1]    0.987203  0.000000e+00\n",
      "nu         2.581130  3.762228e-59\n"
     ]
    }
   ],
   "source": [
    "# Print model fitting summary\n",
    "print(gm_result.summary())\n",
    "\n",
    "# Get parameter stats from model summary\n",
    "para_summary = pd.DataFrame({'parameter':gm_result.params,\n",
    "                             'p-value': gm_result.pvalues})\n",
    "\n",
    "# Print out parameter stats\n",
    "print(para_summary)"
   ]
  },
  {
   "cell_type": "markdown",
   "metadata": {},
   "source": [
    "According to the p-values, the parameters gamma is not statistically significant given a confidence level of 5%, so the null hypnosis claiming the parameter value is zero cannot be rejected. In this case, an asymmetric GARCH model seems to be an overkill."
   ]
  },
  {
   "cell_type": "markdown",
   "metadata": {},
   "source": [
    "## Simplify the model with t-statistics\n",
    "\n",
    "Besides p-values, t-statistics can also help decide the necessity of model parameters.\n",
    "\n",
    "The t-statistic is computed as the estimated parameter value subtracted by its expected mean (zero in this case), and divided by its standard error. The absolute value of the t-statistic is a distance measure, that tells you how many standard errors the estimated parameter is away from 0. As a rule of thumb, if the t-statistic is larger than 2, you can reject the null hypothesis."
   ]
  },
  {
   "cell_type": "code",
   "execution_count": 5,
   "metadata": {},
   "outputs": [
    {
     "name": "stdout",
     "output_type": "stream",
     "text": [
      "mu            3.822041\n",
      "omega         3.037730\n",
      "alpha[1]      6.623160\n",
      "gamma[1]      1.426943\n",
      "beta[1]     151.824183\n",
      "nu           16.218004\n",
      "dtype: float64\n",
      "          parameter   std-err     t-value\n",
      "mu         0.138501  0.036238    3.822041\n",
      "omega      0.111566  0.036727    3.037730\n",
      "alpha[1]   0.314763  0.047525    6.623160\n",
      "gamma[1]   0.026203  0.018363    1.426943\n",
      "beta[1]    0.987203  0.006502  151.824183\n",
      "nu         2.581130  0.159152   16.218004\n"
     ]
    }
   ],
   "source": [
    "# Get parameter stats from model summary\n",
    "para_summary = pd.DataFrame({'parameter':gm_result.params,\n",
    "                             'std-err': gm_result.std_err, \n",
    "                             't-value': gm_result.tvalues})\n",
    "\n",
    "# Verify t-statistic by manual calculation\n",
    "calculated_t = para_summary['parameter']/para_summary['std-err']\n",
    "\n",
    "# Print calculated t-value\n",
    "print(calculated_t)\n",
    "\n",
    "# Print parameter stats\n",
    "print(para_summary)"
   ]
  },
  {
   "cell_type": "markdown",
   "metadata": {},
   "source": [
    "The t-statistics are in agreement with p-values, pointing out that the gamma parameter is not statistically significant and should be left out of the model."
   ]
  },
  {
   "cell_type": "markdown",
   "metadata": {},
   "source": [
    "## ACF plot\n",
    "\n",
    "If a GARCH model is doing a good job, the standardized residuals should not exhibit autocorrelations. In this exercise, you will practice using an ACF plot to detect autocorrelations in the data."
   ]
  },
  {
   "cell_type": "code",
   "execution_count": 6,
   "metadata": {},
   "outputs": [
    {
     "data": {
      "image/png": "[encoded data removed]",
      "text/plain": [
       "<Figure size 648x576 with 1 Axes>"
      ]
     },
     "metadata": {
      "needs_background": "light"
     },
     "output_type": "display_data"
    },
    {
     "data": {
      "image/png": "[encoded data removed]",
      "text/plain": [
       "<Figure size 648x576 with 1 Axes>"
      ]
     },
     "metadata": {
      "needs_background": "light"
     },
     "output_type": "display_data"
    }
   ],
   "source": [
    "std_resid = gm_result.resid\n",
    "\n",
    "# Plot the standardized residuals\n",
    "plt.plot(std_resid)\n",
    "plt.title('Standardized Residuals')\n",
    "plt.show()\n",
    "\n",
    "# Generate ACF plot of the standardized residuals\n",
    "plot_acf(std_resid, alpha = 0.05)\n",
    "plt.show()"
   ]
  },
  {
   "cell_type": "markdown",
   "metadata": {},
   "source": [
    "ACF plot shows the majority of the data points are within the confidence interval, so the model is doing a decent job."
   ]
  },
  {
   "cell_type": "markdown",
   "metadata": {},
   "source": [
    "## Ljung-Box test\n",
    "\n",
    "Another powerful tool to check autocorrelations in the data is the Ljung-Box test.\n",
    "\n",
    "The null hypothesis of Ljung-Box test is: the data is independently distributed. If the p-value is larger than the specified significance level, the null hypothesis cannot be rejected. In other words, there is no clear sign of autocorrelations and the model is valid."
   ]
  },
  {
   "cell_type": "code",
   "execution_count": 7,
   "metadata": {},
   "outputs": [
    {
     "name": "stdout",
     "output_type": "stream",
     "text": [
      "P-values are:  [0.43627277 0.73809022 0.77767867 0.8883076  0.94670642 0.23242298\n",
      " 0.2144875  0.26808755 0.22866071 0.05512081]\n"
     ]
    }
   ],
   "source": [
    "# Perform the Ljung-Box test\n",
    "lb_test = acorr_ljungbox(std_resid , lags = 10)\n",
    "\n",
    "# Print the p-values\n",
    "print('P-values are: ', lb_test[1])"
   ]
  },
  {
   "cell_type": "markdown",
   "metadata": {},
   "source": [
    "All the p-values are larger than 5% so the null hypothesis cannot be rejected. In other words, no autocorrelations detected and the model is doing a decent job."
   ]
  },
  {
   "cell_type": "markdown",
   "metadata": {},
   "source": [
    "## Pick a winner based on log-likelihood\n",
    "\n",
    "GARCH models use the maximum likelihood method to estimate parameters. In general, the bigger the log-likelihood, the better the model since it implies a bigger probability of having observed the data we got."
   ]
  },
  {
   "cell_type": "code",
   "execution_count": 8,
   "metadata": {},
   "outputs": [],
   "source": [
    "# Specify a GARCH(1,1) model\n",
    "normal_gm = arch_model(bitcoin['Return'].dropna(), p = 1, q = 1, \n",
    "                      mean = 'constant', vol = 'GARCH', dist = 'normal')\n",
    "\n",
    "# Fit the model\n",
    "normal_result = normal_gm.fit(disp = 'off')\n",
    "\n",
    "# Specify a GARCH(1,1) model\n",
    "skewt_gm = arch_model(bitcoin['Return'].dropna(), p = 1, q = 1, \n",
    "                      mean = 'constant', vol = 'GARCH', dist = 'skewt')\n",
    "\n",
    "# Fit the model\n",
    "skewt_result = skewt_gm.fit(disp = 'off')"
   ]
  },
  {
   "cell_type": "code",
   "execution_count": 9,
   "metadata": {},
   "outputs": [
    {
     "name": "stdout",
     "output_type": "stream",
     "text": [
      "                     Constant Mean - GARCH Model Results                      \n",
      "==============================================================================\n",
      "Dep. Variable:                 Return   R-squared:                      -0.000\n",
      "Mean Model:             Constant Mean   Adj. R-squared:                 -0.000\n",
      "Vol Model:                      GARCH   Log-Likelihood:               -5686.84\n",
      "Distribution:                  Normal   AIC:                           11381.7\n",
      "Method:            Maximum Likelihood   BIC:                           11404.3\n",
      "                                        No. Observations:                 2124\n",
      "Date:                Mon, Jul 13 2020   Df Residuals:                     2120\n",
      "Time:                        10:26:05   Df Model:                            4\n",
      "                                Mean Model                                \n",
      "==========================================================================\n",
      "                 coef    std err          t      P>|t|    95.0% Conf. Int.\n",
      "--------------------------------------------------------------------------\n",
      "mu             0.1964  6.672e-02      2.944  3.238e-03 [6.566e-02,  0.327]\n",
      "                             Volatility Model                             \n",
      "==========================================================================\n",
      "                 coef    std err          t      P>|t|    95.0% Conf. Int.\n",
      "--------------------------------------------------------------------------\n",
      "omega          0.7345      0.300      2.448  1.436e-02   [  0.146,  1.322]\n",
      "alpha[1]       0.1481  3.526e-02      4.201  2.657e-05 [7.902e-02,  0.217]\n",
      "beta[1]        0.8186  3.057e-02     26.780 5.551e-158   [  0.759,  0.879]\n",
      "==========================================================================\n",
      "\n",
      "Covariance estimator: robust\n",
      "                           Constant Mean - GARCH Model Results                           \n",
      "=========================================================================================\n",
      "Dep. Variable:                            Return   R-squared:                      -0.000\n",
      "Mean Model:                        Constant Mean   Adj. R-squared:                 -0.000\n",
      "Vol Model:                                 GARCH   Log-Likelihood:               -5358.66\n",
      "Distribution:      Standardized Skew Student's t   AIC:                           10729.3\n",
      "Method:                       Maximum Likelihood   BIC:                           10763.3\n",
      "                                                   No. Observations:                 2124\n",
      "Date:                           Mon, Jul 13 2020   Df Residuals:                     2118\n",
      "Time:                                   10:26:06   Df Model:                            6\n",
      "                                Mean Model                                \n",
      "==========================================================================\n",
      "                 coef    std err          t      P>|t|    95.0% Conf. Int.\n",
      "--------------------------------------------------------------------------\n",
      "mu             0.1504  5.139e-02      2.926  3.437e-03 [4.963e-02,  0.251]\n",
      "                              Volatility Model                             \n",
      "===========================================================================\n",
      "                 coef    std err          t      P>|t|     95.0% Conf. Int.\n",
      "---------------------------------------------------------------------------\n",
      "omega          0.1464      0.106      1.382      0.167 [-6.118e-02,  0.354]\n",
      "alpha[1]       0.1229  1.956e-02      6.285  3.272e-10  [8.459e-02,  0.161]\n",
      "beta[1]        0.8771  2.701e-02     32.474 2.463e-231    [  0.824,  0.930]\n",
      "                                 Distribution                                 \n",
      "==============================================================================\n",
      "                  coef    std err          t      P>|t|       95.0% Conf. Int.\n",
      "------------------------------------------------------------------------------\n",
      "nu              3.2220      0.158     20.385  2.281e-92      [  2.912,  3.532]\n",
      "lambda     -3.7753e-03  2.379e-02     -0.159      0.874 [-5.040e-02,4.284e-02]\n",
      "==============================================================================\n",
      "\n",
      "Covariance estimator: robust\n",
      "Log-likelihood of normal GARCH : -5686.83563729006\n",
      "Log-likelihood of skewt GARCH : -5358.6577557059445\n"
     ]
    }
   ],
   "source": [
    "# Print normal GARCH model summary\n",
    "print(normal_result.summary())\n",
    "# Print skewed GARCH model summary\n",
    "print(skewt_result.summary())\n",
    "\n",
    "# Print the log-likelihodd of normal GARCH\n",
    "print('Log-likelihood of normal GARCH :', normal_result.loglikelihood)\n",
    "# Print the log-likelihodd of skewt GARCH\n",
    "print('Log-likelihood of skewt GARCH :', skewt_result.loglikelihood)"
   ]
  },
  {
   "cell_type": "markdown",
   "metadata": {},
   "source": [
    "The GARCH model with skewed Student's t-distribution assumption has a higher log-likelihood, hence is relatively better."
   ]
  },
  {
   "cell_type": "markdown",
   "metadata": {},
   "source": [
    "## Pick a winner based on AIC/BIC\n",
    "\n",
    "Information criteria intend to measure the trade-off between goodness of fit and model complexity. AIC and BIC are two commonly used information criteria for model selection. They both impose penalties on model with more parameters, or more complex models. The lower the AIC or BIC, the better the model."
   ]
  },
  {
   "cell_type": "code",
   "execution_count": 10,
   "metadata": {},
   "outputs": [],
   "source": [
    "# Specify model assumptions\n",
    "gjr_gm = arch_model(bitcoin['Return'].dropna(), p = 1, q = 1, o = 1, vol = 'GARCH', dist = 't')\n",
    "\n",
    "# Fit the model\n",
    "gjrgm_result = gjr_gm.fit(disp = 'off')\n",
    "\n",
    "# Specify model assumptions\n",
    "egarch_gm = arch_model(bitcoin['Return'].dropna(), p = 1, q = 1, o = 1, vol = 'EGARCH', dist = 't')\n",
    "\n",
    "# Fit the model\n",
    "egarch_result = egarch_gm.fit(disp = 'off')"
   ]
  },
  {
   "cell_type": "code",
   "execution_count": 11,
   "metadata": {},
   "outputs": [
    {
     "name": "stdout",
     "output_type": "stream",
     "text": [
      "AIC of GJR-GARCH model : 10727.465944085454\n",
      "AIC of EGARCH model : 10689.608092225393\n",
      "BIC of GJR-GARCH model : 10761.432282379625\n",
      "BIC of EGARCH model : 10723.574430519564\n"
     ]
    }
   ],
   "source": [
    "# Print the AIC GJR-GARCH\n",
    "print('AIC of GJR-GARCH model :', gjrgm_result.aic)\n",
    "# Print the AIC of EGARCH\n",
    "print('AIC of EGARCH model :', egarch_result.aic)\n",
    "\n",
    "# Print the BIC GJR-GARCH\n",
    "print('BIC of GJR-GARCH model :', gjrgm_result.bic)\n",
    "# Print the BIC of EGARCH\n",
    "print('BIC of EGARCH model :', egarch_result.bic)"
   ]
  },
  {
   "cell_type": "markdown",
   "metadata": {},
   "source": [
    "Both AIC and BIC of the EGARCH model are lower, hence EGARCH is relatively better."
   ]
  },
  {
   "cell_type": "code",
   "execution_count": 12,
   "metadata": {},
   "outputs": [],
   "source": [
    "start_loc = 1031\n",
    "end_loc = 1251\n",
    "forecasts = {}\n",
    "\n",
    "for i in range(30):\n",
    "    # Specify fixed rolling window size for model fitting\n",
    "    gm_result = gm.fit(first_obs = start_loc, \n",
    "                             last_obs = i + end_loc, update_freq = 5, disp = 'off')\n",
    "    # Conduct 1-period variance forecast and save the result\n",
    "    temp_result = gm_result.forecast(horizon = 1).variance\n",
    "    fcast = temp_result.iloc[i + end_loc]\n",
    "    forecasts[fcast.name] = fcast\n",
    "# Save all forecast to a dataframe    \n",
    "forecast_var = pd.DataFrame(forecasts).T"
   ]
  },
  {
   "cell_type": "code",
   "execution_count": 13,
   "metadata": {},
   "outputs": [],
   "source": [
    "from sklearn.metrics import mean_absolute_error\n",
    "from sklearn.metrics import mean_squared_error"
   ]
  },
  {
   "cell_type": "code",
   "execution_count": 14,
   "metadata": {},
   "outputs": [],
   "source": [
    "def evaluate(observation, forecast): \n",
    "    # Call sklearn function to calculate MAE\n",
    "    mae = mean_absolute_error(observation, forecast)\n",
    "    print('Mean Absolute Error (MAE): {:.3g}'.format(mae))\n",
    "    # Call sklearn function to calculate MSE\n",
    "    mse = mean_squared_error(observation, forecast)\n",
    "    print('Mean Squared Error (MSE): {:.3g}'.format(mse))\n",
    "    return mae, mse"
   ]
  },
  {
   "cell_type": "code",
   "execution_count": 15,
   "metadata": {},
   "outputs": [
    {
     "name": "stdout",
     "output_type": "stream",
     "text": [
      "Mean Absolute Error (MAE): 41.4\n",
      "Mean Squared Error (MSE): 1.86e+03\n"
     ]
    },
    {
     "data": {
      "text/plain": [
       "(41.365167558057216, 1858.0661859957986)"
      ]
     },
     "execution_count": 15,
     "metadata": {},
     "output_type": "execute_result"
    }
   ],
   "source": [
    "# Backtest model with MAE, MSE\n",
    "evaluate(bitcoin['Return'].loc['2018-2-20':'2018-3-21'], forecast_var)"
   ]
  }
 ],
 "metadata": {
  "kernelspec": {
   "display_name": "Python 3",
   "language": "python",
   "name": "python3"
  },
  "language_info": {
   "codemirror_mode": {
    "name": "ipython",
    "version": 3
   },
   "file_extension": ".py",
   "mimetype": "text/x-python",
   "name": "python",
   "nbconvert_exporter": "python",
   "pygments_lexer": "ipython3",
   "version": "3.7.6"
  }
 },
 "nbformat": 4,
 "nbformat_minor": 4
}
